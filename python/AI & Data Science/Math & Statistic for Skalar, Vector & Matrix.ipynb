{
 "cells": [
  {
   "cell_type": "code",
   "execution_count": 21,
   "id": "4302755c",
   "metadata": {},
   "outputs": [],
   "source": [
    "x = max(5, 10, 25)\n",
    "y = min(5, 10, 25)"
   ]
  },
  {
   "cell_type": "code",
   "execution_count": 22,
   "id": "02c0806f",
   "metadata": {},
   "outputs": [
    {
     "data": {
      "text/plain": [
       "(25, 5)"
      ]
     },
     "execution_count": 22,
     "metadata": {},
     "output_type": "execute_result"
    }
   ],
   "source": [
    "x, y"
   ]
  },
  {
   "cell_type": "code",
   "execution_count": 23,
   "id": "661e53a6",
   "metadata": {},
   "outputs": [],
   "source": [
    "x = abs(-7.25)"
   ]
  },
  {
   "cell_type": "code",
   "execution_count": 24,
   "id": "0b042e9a",
   "metadata": {},
   "outputs": [
    {
     "data": {
      "text/plain": [
       "7.25"
      ]
     },
     "execution_count": 24,
     "metadata": {},
     "output_type": "execute_result"
    }
   ],
   "source": [
    "x"
   ]
  },
  {
   "cell_type": "code",
   "execution_count": 25,
   "id": "d547c4af",
   "metadata": {},
   "outputs": [],
   "source": [
    "import math"
   ]
  },
  {
   "cell_type": "code",
   "execution_count": 26,
   "id": "6c919c4a",
   "metadata": {},
   "outputs": [],
   "source": [
    "x = math.pow(4, 3)"
   ]
  },
  {
   "cell_type": "code",
   "execution_count": 27,
   "id": "d134425e",
   "metadata": {},
   "outputs": [
    {
     "data": {
      "text/plain": [
       "64.0"
      ]
     },
     "execution_count": 27,
     "metadata": {},
     "output_type": "execute_result"
    }
   ],
   "source": [
    "x"
   ]
  },
  {
   "cell_type": "code",
   "execution_count": 28,
   "id": "57f1ad87",
   "metadata": {},
   "outputs": [],
   "source": [
    "x = math.sqrt(64)"
   ]
  },
  {
   "cell_type": "code",
   "execution_count": 29,
   "id": "ce18edb8",
   "metadata": {},
   "outputs": [
    {
     "data": {
      "text/plain": [
       "8.0"
      ]
     },
     "execution_count": 29,
     "metadata": {},
     "output_type": "execute_result"
    }
   ],
   "source": [
    "x"
   ]
  },
  {
   "cell_type": "code",
   "execution_count": 30,
   "id": "9f2b7d0f",
   "metadata": {},
   "outputs": [],
   "source": [
    "x = math.ceil(1)\n",
    "y = math.floor(1)"
   ]
  },
  {
   "cell_type": "code",
   "execution_count": 31,
   "id": "e03ecb05",
   "metadata": {},
   "outputs": [
    {
     "data": {
      "text/plain": [
       "(1, 1)"
      ]
     },
     "execution_count": 31,
     "metadata": {},
     "output_type": "execute_result"
    }
   ],
   "source": [
    "x, y"
   ]
  },
  {
   "cell_type": "code",
   "execution_count": 32,
   "id": "155373be",
   "metadata": {},
   "outputs": [],
   "source": [
    "x = math.pi"
   ]
  },
  {
   "cell_type": "code",
   "execution_count": 33,
   "id": "545c889b",
   "metadata": {},
   "outputs": [
    {
     "data": {
      "text/plain": [
       "3.141592653589793"
      ]
     },
     "execution_count": 33,
     "metadata": {},
     "output_type": "execute_result"
    }
   ],
   "source": [
    "x"
   ]
  },
  {
   "cell_type": "code",
   "execution_count": 34,
   "id": "4e272de9",
   "metadata": {},
   "outputs": [],
   "source": [
    "import numpy as np"
   ]
  },
  {
   "cell_type": "code",
   "execution_count": 35,
   "id": "11dd6720",
   "metadata": {},
   "outputs": [],
   "source": [
    "A = np.array([[80, 60, 40],\n",
    "             [50, 70, 90]])\n",
    "B = np.array([[20, 40, 60],\n",
    "             [30, 50, 70]])\n",
    "\n",
    "hasil_penjualan = A + B"
   ]
  },
  {
   "cell_type": "code",
   "execution_count": 36,
   "id": "081d4567",
   "metadata": {},
   "outputs": [
    {
     "data": {
      "text/plain": [
       "array([[100, 100, 100],\n",
       "       [ 80, 120, 160]])"
      ]
     },
     "execution_count": 36,
     "metadata": {},
     "output_type": "execute_result"
    }
   ],
   "source": [
    "hasil_penjualan"
   ]
  },
  {
   "cell_type": "code",
   "execution_count": 37,
   "id": "15a7f6d1",
   "metadata": {},
   "outputs": [],
   "source": [
    "A = np.array([80, 60, 40])\n",
    "B = np.array([20, 40, 60])\n",
    "\n",
    "hasil = np.dot(A, B)"
   ]
  },
  {
   "cell_type": "code",
   "execution_count": 38,
   "id": "6a951748",
   "metadata": {},
   "outputs": [
    {
     "data": {
      "text/plain": [
       "6400"
      ]
     },
     "execution_count": 38,
     "metadata": {},
     "output_type": "execute_result"
    }
   ],
   "source": [
    "hasil"
   ]
  },
  {
   "cell_type": "code",
   "execution_count": 39,
   "id": "ceb3fee7",
   "metadata": {},
   "outputs": [],
   "source": [
    "hasil = np.cross(A, B)"
   ]
  },
  {
   "cell_type": "code",
   "execution_count": 40,
   "id": "414dfd63",
   "metadata": {},
   "outputs": [
    {
     "data": {
      "text/plain": [
       "array([ 2000, -4000,  2000])"
      ]
     },
     "execution_count": 40,
     "metadata": {},
     "output_type": "execute_result"
    }
   ],
   "source": [
    "hasil"
   ]
  },
  {
   "cell_type": "code",
   "execution_count": null,
   "id": "85e1b4b2",
   "metadata": {},
   "outputs": [],
   "source": []
  }
 ],
 "metadata": {
  "kernelspec": {
   "display_name": "Python 3 (ipykernel)",
   "language": "python",
   "name": "python3"
  },
  "language_info": {
   "codemirror_mode": {
    "name": "ipython",
    "version": 3
   },
   "file_extension": ".py",
   "mimetype": "text/x-python",
   "name": "python",
   "nbconvert_exporter": "python",
   "pygments_lexer": "ipython3",
   "version": "3.10.4"
  },
  "vscode": {
   "interpreter": {
    "hash": "3ad933181bd8a04b432d3370b9dc3b0662ad032c4dfaa4e4f1596c548f763858"
   }
  }
 },
 "nbformat": 4,
 "nbformat_minor": 5
}
