{
 "cells": [
  {
   "cell_type": "code",
   "execution_count": 1,
   "id": "4709f05c",
   "metadata": {},
   "outputs": [],
   "source": [
    "import numpy as np"
   ]
  },
  {
   "cell_type": "code",
   "execution_count": 2,
   "id": "0bf0ba85",
   "metadata": {},
   "outputs": [],
   "source": [
    "arr = np.array([41, 42, 43, 44, 45])"
   ]
  },
  {
   "cell_type": "code",
   "execution_count": 3,
   "id": "bf0a66d4",
   "metadata": {},
   "outputs": [],
   "source": [
    "x = ([True, False, True, False, True])"
   ]
  },
  {
   "cell_type": "code",
   "execution_count": 4,
   "id": "33c301cf",
   "metadata": {},
   "outputs": [],
   "source": [
    "arr = arr[x]"
   ]
  },
  {
   "cell_type": "code",
   "execution_count": 5,
   "id": "89481c93",
   "metadata": {},
   "outputs": [
    {
     "name": "stdout",
     "output_type": "stream",
     "text": [
      "[41 43 45]\n"
     ]
    }
   ],
   "source": [
    "print(arr)"
   ]
  },
  {
   "cell_type": "code",
   "execution_count": 6,
   "id": "20cc8679",
   "metadata": {},
   "outputs": [],
   "source": [
    "arr = np.array([41, 42, 43, 44, 45])"
   ]
  },
  {
   "cell_type": "code",
   "execution_count": 7,
   "id": "cda10bbf",
   "metadata": {},
   "outputs": [],
   "source": [
    "filter_arr = arr > 42"
   ]
  },
  {
   "cell_type": "code",
   "execution_count": 8,
   "id": "065babf3",
   "metadata": {},
   "outputs": [
    {
     "data": {
      "text/plain": [
       "array([False, False,  True,  True,  True])"
      ]
     },
     "execution_count": 8,
     "metadata": {},
     "output_type": "execute_result"
    }
   ],
   "source": [
    "filter_arr"
   ]
  },
  {
   "cell_type": "code",
   "execution_count": 9,
   "id": "4c400b78",
   "metadata": {},
   "outputs": [],
   "source": [
    "arr = arr[filter_arr]"
   ]
  },
  {
   "cell_type": "code",
   "execution_count": 10,
   "id": "f9661964",
   "metadata": {},
   "outputs": [
    {
     "name": "stdout",
     "output_type": "stream",
     "text": [
      "[43 44 45]\n"
     ]
    }
   ],
   "source": [
    "print(arr)"
   ]
  },
  {
   "cell_type": "code",
   "execution_count": 11,
   "id": "d9e149d2",
   "metadata": {},
   "outputs": [],
   "source": [
    "arr = np.array([1, 2, 3, 4, 5, 6, 7])"
   ]
  },
  {
   "cell_type": "code",
   "execution_count": 12,
   "id": "6a65c727",
   "metadata": {},
   "outputs": [],
   "source": [
    "filter_arr = arr % 2 == 0"
   ]
  },
  {
   "cell_type": "code",
   "execution_count": 13,
   "id": "18fffd5a",
   "metadata": {},
   "outputs": [],
   "source": [
    "arr = arr[filter_arr]"
   ]
  },
  {
   "cell_type": "code",
   "execution_count": 14,
   "id": "518e83d0",
   "metadata": {},
   "outputs": [
    {
     "name": "stdout",
     "output_type": "stream",
     "text": [
      "[2 4 6]\n"
     ]
    }
   ],
   "source": [
    "print(arr)"
   ]
  },
  {
   "cell_type": "code",
   "execution_count": 15,
   "id": "da64ae7d",
   "metadata": {},
   "outputs": [],
   "source": [
    "arr = np.array([1, 2, 3, 4, 5, 6, 7])"
   ]
  },
  {
   "cell_type": "code",
   "execution_count": 16,
   "id": "25e4d9ec",
   "metadata": {},
   "outputs": [],
   "source": [
    "filter_arr = (arr % 2 == 0) & (arr > 2)"
   ]
  },
  {
   "cell_type": "code",
   "execution_count": 17,
   "id": "06f15d60",
   "metadata": {},
   "outputs": [],
   "source": [
    "arr = arr[filter_arr]"
   ]
  },
  {
   "cell_type": "code",
   "execution_count": 18,
   "id": "f0ca5e51",
   "metadata": {},
   "outputs": [
    {
     "name": "stdout",
     "output_type": "stream",
     "text": [
      "[4 6]\n"
     ]
    }
   ],
   "source": [
    "print(arr)"
   ]
  },
  {
   "cell_type": "code",
   "execution_count": 19,
   "id": "f694451f",
   "metadata": {},
   "outputs": [],
   "source": [
    "arr = np.array([['1', 'satu'],\n",
    "              ['2', 'dua'],\n",
    "              ['3', 'tiga'],\n",
    "              ['4', 'empat'],\n",
    "              ['5', 'lima']])"
   ]
  },
  {
   "cell_type": "code",
   "execution_count": 20,
   "id": "1d2756b9",
   "metadata": {},
   "outputs": [
    {
     "data": {
      "text/plain": [
       "(5, 2)"
      ]
     },
     "execution_count": 20,
     "metadata": {},
     "output_type": "execute_result"
    }
   ],
   "source": [
    "arr.shape"
   ]
  },
  {
   "cell_type": "code",
   "execution_count": 21,
   "id": "879be9ba",
   "metadata": {},
   "outputs": [],
   "source": [
    "filter_arr = np.array(['dua', 'tiga'])"
   ]
  },
  {
   "cell_type": "code",
   "execution_count": 22,
   "id": "96a33c6c",
   "metadata": {},
   "outputs": [],
   "source": [
    "arr = arr[np.in1d(arr[:, 1], filter_arr)]"
   ]
  },
  {
   "cell_type": "code",
   "execution_count": 23,
   "id": "7bd9bb7a",
   "metadata": {},
   "outputs": [
    {
     "data": {
      "text/plain": [
       "array([['2', 'dua'],\n",
       "       ['3', 'tiga']], dtype='<U5')"
      ]
     },
     "execution_count": 23,
     "metadata": {},
     "output_type": "execute_result"
    }
   ],
   "source": [
    "arr"
   ]
  }
 ],
 "metadata": {
  "kernelspec": {
   "display_name": "Python 3",
   "language": "python",
   "name": "python3"
  },
  "language_info": {
   "codemirror_mode": {
    "name": "ipython",
    "version": 3
   },
   "file_extension": ".py",
   "mimetype": "text/x-python",
   "name": "python",
   "nbconvert_exporter": "python",
   "pygments_lexer": "ipython3",
   "version": "3.10.4"
  },
  "vscode": {
   "interpreter": {
    "hash": "3ad933181bd8a04b432d3370b9dc3b0662ad032c4dfaa4e4f1596c548f763858"
   }
  }
 },
 "nbformat": 4,
 "nbformat_minor": 5
}
