{
 "cells": [
  {
   "cell_type": "code",
   "execution_count": 1,
   "id": "1f2e3c64",
   "metadata": {},
   "outputs": [],
   "source": [
    "from numpy import random"
   ]
  },
  {
   "cell_type": "code",
   "execution_count": 2,
   "id": "1fd3fcbb",
   "metadata": {},
   "outputs": [],
   "source": [
    "x = random.randint(100)"
   ]
  },
  {
   "cell_type": "code",
   "execution_count": 3,
   "id": "fb45edb5",
   "metadata": {},
   "outputs": [
    {
     "data": {
      "text/plain": [
       "48"
      ]
     },
     "execution_count": 3,
     "metadata": {},
     "output_type": "execute_result"
    }
   ],
   "source": [
    "x"
   ]
  },
  {
   "cell_type": "code",
   "execution_count": 4,
   "id": "d61b33e8",
   "metadata": {},
   "outputs": [],
   "source": [
    "x = random.rand()"
   ]
  },
  {
   "cell_type": "code",
   "execution_count": 5,
   "id": "13dc73a1",
   "metadata": {},
   "outputs": [
    {
     "data": {
      "text/plain": [
       "0.17544579739561372"
      ]
     },
     "execution_count": 5,
     "metadata": {},
     "output_type": "execute_result"
    }
   ],
   "source": [
    "x"
   ]
  },
  {
   "cell_type": "code",
   "execution_count": 6,
   "id": "6341ad32",
   "metadata": {},
   "outputs": [],
   "source": [
    "x = random.randint(100, size=(7))"
   ]
  },
  {
   "cell_type": "code",
   "execution_count": 7,
   "id": "56ae6488",
   "metadata": {},
   "outputs": [
    {
     "data": {
      "text/plain": [
       "array([20, 31, 50, 84, 26, 31, 89])"
      ]
     },
     "execution_count": 7,
     "metadata": {},
     "output_type": "execute_result"
    }
   ],
   "source": [
    "x"
   ]
  },
  {
   "cell_type": "code",
   "execution_count": 8,
   "id": "99a6be8f",
   "metadata": {},
   "outputs": [],
   "source": [
    "x = random.randint(100, size=(5, 9))"
   ]
  },
  {
   "cell_type": "code",
   "execution_count": 9,
   "id": "817b7850",
   "metadata": {},
   "outputs": [
    {
     "data": {
      "text/plain": [
       "array([[36, 36, 89, 96, 51, 67, 52, 39, 86],\n",
       "       [40, 29, 22, 64, 80, 74, 25, 77, 42],\n",
       "       [47, 95,  8, 71, 59, 60,  4, 57, 59],\n",
       "       [73, 91, 10, 76, 47, 65, 89,  9, 82],\n",
       "       [25, 74, 66, 44, 26, 74, 11, 50, 57]])"
      ]
     },
     "execution_count": 9,
     "metadata": {},
     "output_type": "execute_result"
    }
   ],
   "source": [
    "x"
   ]
  },
  {
   "cell_type": "code",
   "execution_count": 10,
   "id": "22c87601",
   "metadata": {},
   "outputs": [],
   "source": [
    "x = random.rand(9)"
   ]
  },
  {
   "cell_type": "code",
   "execution_count": 11,
   "id": "87325fb6",
   "metadata": {},
   "outputs": [
    {
     "data": {
      "text/plain": [
       "array([0.05317512, 0.26692974, 0.12898011, 0.31879858, 0.630493  ,\n",
       "       0.24797588, 0.82718463, 0.16392822, 0.74257996])"
      ]
     },
     "execution_count": 11,
     "metadata": {},
     "output_type": "execute_result"
    }
   ],
   "source": [
    "x"
   ]
  },
  {
   "cell_type": "code",
   "execution_count": 12,
   "id": "66a04cdb",
   "metadata": {},
   "outputs": [],
   "source": [
    "x = random.rand(5, 3)"
   ]
  },
  {
   "cell_type": "code",
   "execution_count": 13,
   "id": "6d18ef19",
   "metadata": {},
   "outputs": [
    {
     "data": {
      "text/plain": [
       "array([[0.01321825, 0.01881443, 0.24344156],\n",
       "       [0.11041173, 0.53254094, 0.68806971],\n",
       "       [0.54130288, 0.55546097, 0.36245166],\n",
       "       [0.53061502, 0.92350656, 0.57490285],\n",
       "       [0.18671355, 0.49046958, 0.74897866]])"
      ]
     },
     "execution_count": 13,
     "metadata": {},
     "output_type": "execute_result"
    }
   ],
   "source": [
    "x"
   ]
  },
  {
   "cell_type": "code",
   "execution_count": 14,
   "id": "74ecd9b3",
   "metadata": {},
   "outputs": [],
   "source": [
    "x = random.choice([3, 5, 7, 9])"
   ]
  },
  {
   "cell_type": "code",
   "execution_count": 15,
   "id": "2f96903c",
   "metadata": {},
   "outputs": [
    {
     "data": {
      "text/plain": [
       "5"
      ]
     },
     "execution_count": 15,
     "metadata": {},
     "output_type": "execute_result"
    }
   ],
   "source": [
    "x"
   ]
  },
  {
   "cell_type": "code",
   "execution_count": 16,
   "id": "2863c479",
   "metadata": {},
   "outputs": [],
   "source": [
    "import numpy as np\n",
    "arr = np.array([1, 2, 3, 4, 5])"
   ]
  },
  {
   "cell_type": "code",
   "execution_count": 17,
   "id": "b89f5539",
   "metadata": {},
   "outputs": [],
   "source": [
    "random.shuffle(arr)"
   ]
  },
  {
   "cell_type": "code",
   "execution_count": 18,
   "id": "4117666c",
   "metadata": {},
   "outputs": [
    {
     "name": "stdout",
     "output_type": "stream",
     "text": [
      "[4 5 1 2 3]\n"
     ]
    }
   ],
   "source": [
    "print(arr)"
   ]
  }
 ],
 "metadata": {
  "kernelspec": {
   "display_name": "Python 3",
   "language": "python",
   "name": "python3"
  },
  "language_info": {
   "codemirror_mode": {
    "name": "ipython",
    "version": 3
   },
   "file_extension": ".py",
   "mimetype": "text/x-python",
   "name": "python",
   "nbconvert_exporter": "python",
   "pygments_lexer": "ipython3",
   "version": "3.10.4"
  },
  "vscode": {
   "interpreter": {
    "hash": "3ad933181bd8a04b432d3370b9dc3b0662ad032c4dfaa4e4f1596c548f763858"
   }
  }
 },
 "nbformat": 4,
 "nbformat_minor": 5
}
